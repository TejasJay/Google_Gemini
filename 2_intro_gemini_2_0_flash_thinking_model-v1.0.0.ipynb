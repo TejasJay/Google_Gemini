{
 "cells": [
  {
   "cell_type": "code",
   "execution_count": null,
   "metadata": {
    "id": "sqi5B7V_Rjim"
   },
   "outputs": [],
   "source": [
    "# Copyright 2024 Google LLC\n",
    "#\n",
    "# Licensed under the Apache License, Version 2.0 (the \"License\");\n",
    "# you may not use this file except in compliance with the License.\n",
    "# You may obtain a copy of the License at\n",
    "#\n",
    "#     https://www.apache.org/licenses/LICENSE-2.0\n",
    "#\n",
    "# Unless required by applicable law or agreed to in writing, software\n",
    "# distributed under the License is distributed on an \"AS IS\" BASIS,\n",
    "# WITHOUT WARRANTIES OR CONDITIONS OF ANY KIND, either express or implied.\n",
    "# See the License for the specific language governing permissions and\n",
    "# limitations under the License."
   ]
  },
  {
   "cell_type": "markdown",
   "metadata": {
    "id": "VyPmicX9RlZX"
   },
   "source": [
    "# Getting Started with Gemini 2.0 the Flash Thinking Model\n",
    "\n",
    "<table align=\"left\">\n",
    "  <td style=\"text-align: center\">\n",
    "    <a href=\"https://colab.research.google.com/github/GoogleCloudPlatform/generative-ai/blob/main/gemini/getting-started/intro_gemini_2_0_flash_thinking_mode.ipynb\">\n",
    "      <img width=\"32px\" src=\"https://www.gstatic.com/pantheon/images/bigquery/welcome_page/colab-logo.svg\" alt=\"Google Colaboratory logo\"><br> Open in Colab\n",
    "    </a>\n",
    "  </td>\n",
    "  <td style=\"text-align: center\">\n",
    "    <a href=\"https://console.cloud.google.com/vertex-ai/colab/import/https:%2F%2Fraw.githubusercontent.com%2FGoogleCloudPlatform%2Fgenerative-ai%2Fmain%2Fgemini%2Fgetting-started%2Fintro_gemini_2_0_flash_thinking_mode.ipynb\">\n",
    "      <img width=\"32px\" src=\"https://lh3.googleusercontent.com/JmcxdQi-qOpctIvWKgPtrzZdJJK-J3sWE1RsfjZNwshCFgE_9fULcNpuXYTilIR2hjwN\" alt=\"Google Cloud Colab Enterprise logo\"><br> Open in Colab Enterprise\n",
    "    </a>\n",
    "  </td>\n",
    "  <td style=\"text-align: center\">\n",
    "    <a href=\"https://console.cloud.google.com/vertex-ai/workbench/deploy-notebook?download_url=https://raw.githubusercontent.com/GoogleCloudPlatform/generative-ai/main/gemini/getting-started/intro_gemini_2_0_flash_thinking_mode.ipynb\">\n",
    "      <img src=\"https://www.gstatic.com/images/branding/gcpiconscolors/vertexai/v1/32px.svg\" alt=\"Vertex AI logo\"><br> Open in Vertex AI Workbench\n",
    "    </a>\n",
    "  </td>\n",
    "  <td style=\"text-align: center\">\n",
    "    <a href=\"https://github.com/GoogleCloudPlatform/generative-ai/blob/main/gemini/getting-started/intro_gemini_2_0_flash_thinking_mode.ipynb\">\n",
    "      <img width=\"32px\" src=\"https://upload.wikimedia.org/wikipedia/commons/9/91/Octicons-mark-github.svg\" alt=\"GitHub logo\"><br> View on GitHub\n",
    "    </a>\n",
    "  </td>\n",
    "  <td style=\"text-align: center\">\n",
    "    <a href=\"https://goo.gle/42q3ZwP\">\n",
    "      <img width=\"32px\" src=\"https://cdn.qwiklabs.com/assets/gcp_cloud-e3a77215f0b8bfa9b3f611c0d2208c7e8708ed31.svg\" alt=\"Google Cloud logo\"><br> Open in Cloud Skills Boost\n",
    "    </a>\n",
    "  </td>\n",
    "</table>\n",
    "\n",
    "<div style=\"clear: both;\"></div>\n",
    "\n",
    "<b>Share to:</b>\n",
    "\n",
    "<a href=\"https://www.linkedin.com/sharing/share-offsite/?url=https%3A//github.com/GoogleCloudPlatform/generative-ai/blob/main/gemini/getting-started/intro_gemini_2_0_flash_thinking_mode.ipynb\" target=\"_blank\">\n",
    "  <img width=\"20px\" src=\"https://upload.wikimedia.org/wikipedia/commons/8/81/LinkedIn_icon.svg\" alt=\"LinkedIn logo\">\n",
    "</a>\n",
    "\n",
    "<a href=\"https://bsky.app/intent/compose?text=https%3A//github.com/GoogleCloudPlatform/generative-ai/blob/main/gemini/getting-started/intro_gemini_2_0_flash_thinking_mode.ipynb\" target=\"_blank\">\n",
    "  <img width=\"20px\" src=\"https://upload.wikimedia.org/wikipedia/commons/7/7a/Bluesky_Logo.svg\" alt=\"Bluesky logo\">\n",
    "</a>\n",
    "\n",
    "<a href=\"https://twitter.com/intent/tweet?url=https%3A//github.com/GoogleCloudPlatform/generative-ai/blob/main/gemini/getting-started/intro_gemini_2_0_flash_thinking_mode.ipynb\" target=\"_blank\">\n",
    "  <img width=\"20px\" src=\"https://upload.wikimedia.org/wikipedia/commons/5/53/X_logo_2023_original.svg\" alt=\"X logo\">\n",
    "</a>\n",
    "\n",
    "<a href=\"https://reddit.com/submit?url=https%3A//github.com/GoogleCloudPlatform/generative-ai/blob/main/gemini/getting-started/intro_gemini_2_0_flash_thinking_mode.ipynb\" target=\"_blank\">\n",
    "  <img width=\"20px\" src=\"https://redditinc.com/hubfs/Reddit%20Inc/Brand/Reddit_Logo.png\" alt=\"Reddit logo\">\n",
    "</a>\n",
    "\n",
    "<a href=\"https://www.facebook.com/sharer/sharer.php?u=https%3A//github.com/GoogleCloudPlatform/generative-ai/blob/main/gemini/getting-started/intro_gemini_2_0_flash_thinking_mode.ipynb\" target=\"_blank\">\n",
    "  <img width=\"20px\" src=\"https://upload.wikimedia.org/wikipedia/commons/5/51/Facebook_f_logo_%282019%29.svg\" alt=\"Facebook logo\">\n",
    "</a>"
   ]
  },
  {
   "cell_type": "markdown",
   "metadata": {
    "id": "8MqT58L6Rm_q"
   },
   "source": [
    "| | |\n",
    "|-|-|\n",
    "| Author(s) |  [Guillaume Vernade](https://github.com/giom-v), [Eric Dong](https://github.com/gericdong) |"
   ]
  },
  {
   "cell_type": "markdown",
   "metadata": {
    "id": "3w14yjWnPVD-"
   },
   "source": [
    "## Overview\n",
    "\n",
    "[Gemini 2.0 Flash Thinking](https://cloud.google.com/vertex-ai/generative-ai/docs/thinking-mode) is an experimental model that's trained to generate the \"thinking process\" the model goes through as part of its response. As a result, the Flash Thinking model is capable of stronger reasoning capabilities in its responses than the Gemini 2.0 Flash model.\n",
    "\n",
    "This tutorial demonstrates how to access the Gemini 2.0 Flash Thinking model and use the model to solve the following complex tasks that require multiple rounds of strategizing and iteratively solving.\n",
    "\n",
    "- Example 1: Code simplification\n",
    "- Example 2: Geometry problem (with image)\n",
    "- Example 3: Mathematical brain teaser\n",
    "- Example 4: Generating question for a specific level of knowledge\n",
    "- Example 5: Statistics\n",
    "- Example 6: Brain teaser with a twist\n"
   ]
  },
  {
   "cell_type": "markdown",
   "metadata": {
    "id": "gPiTOAHURvTM"
   },
   "source": [
    "## Getting Started"
   ]
  },
  {
   "cell_type": "markdown",
   "metadata": {
    "id": "CHRZUpfWSEpp"
   },
   "source": [
    "### Install Google Gen AI SDK for Python\n"
   ]
  },
  {
   "cell_type": "code",
   "execution_count": 1,
   "metadata": {
    "id": "sG3_LKsWSD3A",
    "tags": []
   },
   "outputs": [
    {
     "name": "stdout",
     "output_type": "stream",
     "text": [
      "\n",
      "\u001b[1m[\u001b[0m\u001b[34;49mnotice\u001b[0m\u001b[1;39;49m]\u001b[0m\u001b[39;49m A new release of pip is available: \u001b[0m\u001b[31;49m25.0\u001b[0m\u001b[39;49m -> \u001b[0m\u001b[32;49m25.0.1\u001b[0m\n",
      "\u001b[1m[\u001b[0m\u001b[34;49mnotice\u001b[0m\u001b[1;39;49m]\u001b[0m\u001b[39;49m To update, run: \u001b[0m\u001b[32;49mpip install --upgrade pip\u001b[0m\n",
      "Note: you may need to restart the kernel to use updated packages.\n"
     ]
    }
   ],
   "source": [
    "%pip install --upgrade --quiet google-genai"
   ]
  },
  {
   "cell_type": "markdown",
   "metadata": {
    "id": "0Ef0zVX-X9Bg"
   },
   "source": [
    "### Import libraries\n"
   ]
  },
  {
   "cell_type": "code",
   "execution_count": 2,
   "metadata": {
    "id": "xBCH3hnAX9Bh",
    "tags": []
   },
   "outputs": [],
   "source": [
    "from collections.abc import Iterator\n",
    "import os\n",
    "\n",
    "from IPython.display import Image, Markdown, display\n",
    "from google import genai\n",
    "from google.genai.types import (\n",
    "    GenerateContentConfig,\n",
    "    GenerateContentResponse,\n",
    "    Part,\n",
    "    ThinkingConfig,\n",
    ")"
   ]
  },
  {
   "cell_type": "markdown",
   "metadata": {
    "id": "LymmEN6GSTn-"
   },
   "source": [
    "### Set Google Cloud project information and create client\n",
    "\n",
    "To get started using Vertex AI, you must have an existing Google Cloud project and [enable the Vertex AI API](https://console.cloud.google.com/flows/enableapi?apiid=aiplatform.googleapis.com).\n",
    "\n",
    "Learn more about [setting up a project and a development environment](https://cloud.google.com/vertex-ai/docs/start/cloud-environment)."
   ]
  },
  {
   "cell_type": "code",
   "execution_count": 3,
   "metadata": {
    "id": "Nqwi-5ufWp_B",
    "tags": []
   },
   "outputs": [],
   "source": [
    "PROJECT_ID = \"[your-project-id]\"  # @param {type: \"string\"}\n",
    "if not PROJECT_ID or PROJECT_ID == \"[your-project-id]\":\n",
    "    PROJECT_ID = str(os.environ.get(\"GOOGLE_CLOUD_PROJECT\"))\n",
    "\n",
    "LOCATION = os.environ.get(\"GOOGLE_CLOUD_REGION\", \"us-central1\")"
   ]
  },
  {
   "cell_type": "code",
   "execution_count": 4,
   "metadata": {
    "id": "T-tiytzQE0uM",
    "tags": []
   },
   "outputs": [],
   "source": [
    "client = genai.Client(\n",
    "    vertexai=True,\n",
    "    project=PROJECT_ID,\n",
    "    location=LOCATION,\n",
    ")"
   ]
  },
  {
   "cell_type": "markdown",
   "metadata": {
    "id": "w0u6hYSleE0H"
   },
   "source": [
    "## Use Gemini 2.0 Flash Thinking Model\n"
   ]
  },
  {
   "cell_type": "markdown",
   "metadata": {
    "id": "5M7EKckIYVFy"
   },
   "source": [
    "### Set model ID\n",
    "\n",
    "See the [Google models](https://cloud.google.com/vertex-ai/generative-ai/docs/learn/models) page for more information."
   ]
  },
  {
   "cell_type": "code",
   "execution_count": 5,
   "metadata": {
    "id": "-coEslfWPrxo",
    "tags": []
   },
   "outputs": [],
   "source": [
    "MODEL_ID = \"gemini-2.0-flash-thinking-exp-01-21\"  # @param {type: \"string\"}"
   ]
  },
  {
   "cell_type": "markdown",
   "metadata": {
    "id": "72e846835b84"
   },
   "source": [
    "### Helper functions\n",
    "\n",
    "Create methods to print out the thoughts and answer."
   ]
  },
  {
   "cell_type": "code",
   "execution_count": 6,
   "metadata": {
    "id": "51e2ab48b44a",
    "tags": []
   },
   "outputs": [],
   "source": [
    "def print_thoughts(response: GenerateContentResponse) -> None:\n",
    "    for part in response.candidates[0].content.parts:\n",
    "        header = \"Thoughts\" if part.thought else \"Answer\"\n",
    "        display(Markdown(f\"\"\"## {header}:\\n{part.text}\"\"\"))\n",
    "\n",
    "\n",
    "def print_thoughts_stream(response: Iterator[GenerateContentResponse]) -> None:\n",
    "    display(Markdown(\"## Thoughts:\\n\"))\n",
    "    answer_shown = False\n",
    "\n",
    "    for chunk in response:\n",
    "        for part in chunk.candidates[0].content.parts:\n",
    "            if not part.thought and not answer_shown:\n",
    "                display(Markdown(\"## Answer:\\n\"))\n",
    "                answer_shown = True\n",
    "            display(Markdown(part.text))"
   ]
  },
  {
   "cell_type": "markdown",
   "metadata": {
    "id": "7103e527293a"
   },
   "source": [
    "### Enable thoughts\n",
    "\n",
    "You set the flag `include_thoughts` in the `ThinkingConfig` to indicate whether to return thoughts in the model response. The flag is set to `False` by default."
   ]
  },
  {
   "cell_type": "code",
   "execution_count": 7,
   "metadata": {
    "id": "869bd363d8fc",
    "tags": []
   },
   "outputs": [],
   "source": [
    "config = GenerateContentConfig(thinking_config=ThinkingConfig(include_thoughts=True))"
   ]
  },
  {
   "cell_type": "markdown",
   "metadata": {
    "id": "c5fc462efc55"
   },
   "source": [
    "### Generate content with thoughts\n",
    "\n",
    "Then use the `generate_content` method to send a request to generate content with thoughts. The model responds with multiple parts, the thoughts and the model response. You can check the `part.thought` field to determine if a part is a thought or not."
   ]
  },
  {
   "cell_type": "code",
   "execution_count": 8,
   "metadata": {
    "id": "c55bf1df11ea",
    "tags": []
   },
   "outputs": [
    {
     "data": {
      "text/markdown": [
       "## Answer:\n",
       "This sequence is formed by multiplying each number by 2 to get the next number.\n",
       "\n",
       "* 2 * 2 = 4\n",
       "* 4 * 2 = 8\n",
       "* 8 * 2 = 16\n",
       "\n",
       "Therefore, to find the next number, we multiply 16 by 2:\n",
       "\n",
       "* 16 * 2 = **32**\n",
       "\n",
       "The next number in the sequence is **32**."
      ],
      "text/plain": [
       "<IPython.core.display.Markdown object>"
      ]
     },
     "metadata": {},
     "output_type": "display_data"
    }
   ],
   "source": [
    "response = client.models.generate_content(\n",
    "    model=MODEL_ID,\n",
    "    contents=\"What is the next number in this sequence: 2, 4, 8, 16, __?\",\n",
    "    config=config,\n",
    ")\n",
    "print_thoughts(response)"
   ]
  },
  {
   "cell_type": "markdown",
   "metadata": {
    "id": "0c9a466d65d0"
   },
   "source": [
    "### Generate content stream with thoughts\n",
    "\n",
    "You can also use the `generate_content_stream` method to stream the response and thoughts as they are being generated, and the model will return chunks of the response as soon as they are generated."
   ]
  },
  {
   "cell_type": "code",
   "execution_count": 9,
   "metadata": {
    "id": "425f08594870",
    "tags": []
   },
   "outputs": [
    {
     "data": {
      "text/markdown": [
       "## Thoughts:\n"
      ],
      "text/plain": [
       "<IPython.core.display.Markdown object>"
      ]
     },
     "metadata": {},
     "output_type": "display_data"
    },
    {
     "data": {
      "text/markdown": [
       "## Answer:\n"
      ],
      "text/plain": [
       "<IPython.core.display.Markdown object>"
      ]
     },
     "metadata": {},
     "output_type": "display_data"
    },
    {
     "data": {
      "text/markdown": [
       "Yes, the Monty Hall Problem *fundamentally changes* if all the doors are made of transparent glass.  Let's break down"
      ],
      "text/plain": [
       "<IPython.core.display.Markdown object>"
      ]
     },
     "metadata": {},
     "output_type": "display_data"
    },
    {
     "data": {
      "text/markdown": [
       " why:\n",
       "\n",
       "**The Classic Monty Hall Problem (Opaque Doors):**\n",
       "\n",
       "* **Uncertainty:**  The core of the Monty Hall Problem is the uncertainty. You don't know where the car is, and Monty's action provides you with new information that changes the probabilities.\n",
       "* **Monty's Knowledge"
      ],
      "text/plain": [
       "<IPython.core.display.Markdown object>"
      ]
     },
     "metadata": {},
     "output_type": "display_data"
    },
    {
     "data": {
      "text/markdown": [
       ":** Monty knows where the car is. This is crucial.\n",
       "* **Monty's Action:** Monty *always* opens a door you *didn't* pick and *always* reveals a goat. This is a guaranteed action based on his knowledge.\n",
       "* **Switching Advantage:**  Switching doors doubles"
      ],
      "text/plain": [
       "<IPython.core.display.Markdown object>"
      ]
     },
     "metadata": {},
     "output_type": "display_data"
    },
    {
     "data": {
      "text/markdown": [
       " your probability of winning because your initial 1/3 probability is concentrated onto the unchosen, unopened door after Monty reveals information about the other doors.\n",
       "\n",
       "**Monty Hall Problem with Transparent Doors:**\n",
       "\n",
       "* **No Uncertainty:** With transparent doors, you, the contestant, and Monty can *immediately see* what's behind each"
      ],
      "text/plain": [
       "<IPython.core.display.Markdown object>"
      ]
     },
     "metadata": {},
     "output_type": "display_data"
    },
    {
     "data": {
      "text/markdown": [
       " door. There is no hidden information.\n",
       "* **Immediate Knowledge:** You can see if you initially picked the door with the car or a goat.\n",
       "* **Monty's Action Becomes Meaningless (Information-wise):** Since everyone sees everything from the start, Monty opening a door with a goat reveals *no"
      ],
      "text/plain": [
       "<IPython.core.display.Markdown object>"
      ]
     },
     "metadata": {},
     "output_type": "display_data"
    },
    {
     "data": {
      "text/markdown": [
       " new information whatsoever*.  It's a purely ceremonial act, if he even does it.\n",
       "\n",
       "**Scenarios with Transparent Doors:**\n",
       "\n",
       "Let's consider the possibilities when you can see through the doors from the beginning:\n",
       "\n",
       "1. **You see you picked the car door initially:**\n",
       "   * You *know"
      ],
      "text/plain": [
       "<IPython.core.display.Markdown object>"
      ]
     },
     "metadata": {},
     "output_type": "display_data"
    },
    {
     "data": {
      "text/markdown": [
       "* you picked the car.\n",
       "   * Monty opens a door with a goat (he has to, if he's still following the rules).\n",
       "   * **Should you switch?**  Absolutely not. You already see you picked the car. Switching would be foolish and would guarantee you lose.  Staying guarantees"
      ],
      "text/plain": [
       "<IPython.core.display.Markdown object>"
      ]
     },
     "metadata": {},
     "output_type": "display_data"
    },
    {
     "data": {
      "text/markdown": [
       " you win.\n",
       "\n",
       "2. **You see you picked a goat door initially:**\n",
       "   * You *know* you picked a goat.\n",
       "   * You also see which door has the car.\n",
       "   * Monty opens the other goat door (he has to, if he's following the rules).\n",
       "   * **Should"
      ],
      "text/plain": [
       "<IPython.core.display.Markdown object>"
      ]
     },
     "metadata": {},
     "output_type": "display_data"
    },
    {
     "data": {
      "text/markdown": [
       " you switch?** Yes, definitely. You can see the car behind one of the other doors. Switching to the car door guarantees you win.\n",
       "\n",
       "**Why the Problem Changes:**\n",
       "\n",
       "* **Loss of Information Asymmetry:** The Monty Hall Problem works because Monty has information you don't.  Transparent doors eliminate this asymmetry"
      ],
      "text/plain": [
       "<IPython.core.display.Markdown object>"
      ]
     },
     "metadata": {},
     "output_type": "display_data"
    },
    {
     "data": {
      "text/markdown": [
       ".  Both players have complete information from the outset.\n",
       "* **No Probability Update:** In the classic problem, Monty's action forces you to update your probabilities. With transparent doors, there's no need to update probabilities because you already know the outcome.\n",
       "* **Trivial Decision:** The decision becomes trivial. You simply"
      ],
      "text/plain": [
       "<IPython.core.display.Markdown object>"
      ]
     },
     "metadata": {},
     "output_type": "display_data"
    },
    {
     "data": {
      "text/markdown": [
       " choose the door with the car if you want to win.  There's no puzzle or counterintuitive probability aspect left.\n",
       "\n",
       "**In Summary:**\n",
       "\n",
       "Making the doors transparent completely trivializes the Monty Hall Problem. It removes the core element of hidden information and probability manipulation that makes the classic puzzle so intriguing.  With"
      ],
      "text/plain": [
       "<IPython.core.display.Markdown object>"
      ]
     },
     "metadata": {},
     "output_type": "display_data"
    },
    {
     "data": {
      "text/markdown": [
       " transparent doors:\n",
       "\n",
       "* **If you picked the car door (you can see it), stay.**\n",
       "* **If you picked a goat door (you can see it), switch to the car door (you can also see it).**\n",
       "\n",
       "The strategic element disappears, and the problem becomes a matter of simply choosing what"
      ],
      "text/plain": [
       "<IPython.core.display.Markdown object>"
      ]
     },
     "metadata": {},
     "output_type": "display_data"
    },
    {
     "data": {
      "text/markdown": [
       " you can clearly see. The counterintuitive \"switch\" advice of the original problem no longer applies in the same meaningful way because the underlying game mechanics are altered by the removal of hidden information."
      ],
      "text/plain": [
       "<IPython.core.display.Markdown object>"
      ]
     },
     "metadata": {},
     "output_type": "display_data"
    }
   ],
   "source": [
    "response = client.models.generate_content_stream(\n",
    "    model=MODEL_ID,\n",
    "    contents=\"Does the Monty Hall Problem change if all the doors are made of transparent glass?\",\n",
    "    config=config,\n",
    ")\n",
    "\n",
    "print_thoughts_stream(response)"
   ]
  },
  {
   "cell_type": "markdown",
   "metadata": {
    "id": "IrRBg9UGC9nn"
   },
   "source": [
    "## Thinking Model examples\n",
    "\n",
    "The following examples are some complex tasks that require multiple rounds of strategizing and iteratively solving.\n",
    "\n",
    "### **Example 1**: Code simplification\n",
    "\n",
    "First, try with a simple code comprehension and simplification example."
   ]
  },
  {
   "cell_type": "code",
   "execution_count": 10,
   "metadata": {
    "id": "dLhhffx2C9nn",
    "tags": []
   },
   "outputs": [
    {
     "data": {
      "text/markdown": [
       "## Answer:\n",
       "The code you provided is already quite concise and performs a specific task efficiently.  \"Simplifying\" in this context usually means making it more readable, understandable, or potentially slightly more efficient (though efficiency gains here will be negligible).\n",
       "\n",
       "Let's break down what the code does and then explore potential ways to \"simplify\" it in terms of readability and perhaps structure, but not necessarily making it shorter.\n",
       "\n",
       "**Understanding the Original Code:**\n",
       "\n",
       "```javascript\n",
       "(Math.round(radius/pixelsPerMile * 10) / 10).toFixed(1);\n",
       "```\n",
       "\n",
       "1. **`radius / pixelsPerMile`**: This divides the `radius` by `pixelsPerMile`.  This likely converts a radius value (in some unit, perhaps pixels initially) into a distance in miles (or a representation related to miles). Let's assume `pixelsPerMile` is a conversion factor indicating how many pixels represent one mile.\n",
       "\n",
       "2. **`... * 10`**: The result from step 1 is multiplied by 10.\n",
       "\n",
       "3. **`Math.round(...)`**: This rounds the result of step 2 to the nearest whole integer.\n",
       "\n",
       "4. **`... / 10`**: The rounded integer from step 3 is divided by 10. This effectively shifts the decimal point back one place, achieving rounding to one decimal place.\n",
       "\n",
       "5. **`.toFixed(1)`**: This converts the numerical result to a string and formats it to have exactly one decimal place. Even if the number is a whole number after the previous steps, `.toFixed(1)` will ensure it's displayed with `.0` (e.g., `5` becomes `\"5.0\"`).\n",
       "\n",
       "**Purpose:**\n",
       "\n",
       "The code essentially calculates a distance (or a value representing a distance in miles, scaled and potentially related to pixels), rounds it to one decimal place, and then presents it as a string with one decimal place.  It's a common way to achieve rounding to a specific decimal place in JavaScript using `Math.round`.\n",
       "\n",
       "**Ways to \"Simplify\" (Primarily for Readability):**\n",
       "\n",
       "Here are a few ways to make the code potentially more readable, though they don't fundamentally change the calculation:\n",
       "\n",
       "**1. Using Intermediate Variables (for Readability):**\n",
       "\n",
       "This is often the best way to improve readability when you have nested operations.  You break down the calculation into steps with descriptive variable names:\n",
       "\n",
       "```javascript\n",
       "const milesValue = radius / pixelsPerMile; // Calculate the value in \"miles\" units\n",
       "const milesValueTimesTen = milesValue * 10; // Multiply by 10 for rounding to tenths\n",
       "const roundedMilesTimesTen = Math.round(milesValueTimesTen); // Round to the nearest integer\n",
       "const roundedMiles = roundedMilesTimesTen / 10; // Divide by 10 to get rounded miles\n",
       "const formattedMiles = roundedMiles.toFixed(1); // Format to one decimal place string\n",
       "\n",
       "return formattedMiles;\n",
       "```\n",
       "\n",
       "This version is much more verbose, but each step is clear.  You could condense it a bit while still improving readability:\n",
       "\n",
       "```javascript\n",
       "const milesValue = radius / pixelsPerMile;\n",
       "const roundedMiles = Math.round(milesValue * 10) / 10;\n",
       "const formattedMiles = roundedMiles.toFixed(1);\n",
       "\n",
       "return formattedMiles;\n",
       "```\n",
       "\n",
       "**2. Encapsulating in a Function (for Reusability and Readability):**\n",
       "\n",
       "If you are doing this kind of rounding in multiple places in your code, it's a good idea to create a function:\n",
       "\n",
       "```javascript\n",
       "function calculateMilesRoundedToDecimal(radius, pixelsPerMile, decimalPlaces = 1) {\n",
       "  const milesValue = radius / pixelsPerMile;\n",
       "  const multiplier = Math.pow(10, decimalPlaces); // Calculate multiplier based on decimal places\n",
       "  const roundedMiles = Math.round(milesValue * multiplier) / multiplier;\n",
       "  return roundedMiles.toFixed(decimalPlaces);\n",
       "}\n",
       "\n",
       "// Usage:\n",
       "const formattedMiles = calculateMilesRoundedToDecimal(radius, pixelsPerMile, 1); // Same as original\n",
       "const formattedMilesTwoDecimal = calculateMilesRoundedToDecimal(radius, pixelsPerMile, 2); // Rounded to two decimal places\n",
       "```\n",
       "\n",
       "This function is more flexible because you can easily change the number of decimal places you want to round to.\n",
       "\n",
       "**3.  (Slightly Less Readable, but More Concise):  Combining Steps**\n",
       "\n",
       "You could slightly reduce the number of lines by combining steps, but this might sacrifice a little bit of immediate readability:\n",
       "\n",
       "```javascript\n",
       "const roundedMilesString = (Math.round((radius / pixelsPerMile) * 10) / 10).toFixed(1);\n",
       "return roundedMilesString;\n",
       "```\n",
       "\n",
       "This is almost back to the original, but perhaps slightly clearer because the initial division and multiplication are grouped with parentheses.\n",
       "\n",
       "**Which \"Simplification\" to Choose?**\n",
       "\n",
       "* **For best readability and maintainability, especially in larger projects:**  Using intermediate variables (like in option 1) is often preferred.  It makes the code easier to understand and debug.\n",
       "* **For reusability and flexibility:** Creating a function (like in option 2) is the best approach.\n",
       "* **For keeping it concise and if readability is already acceptable:**  The original code is quite good. Option 3 is a tiny bit more organized but very similar to the original.\n",
       "\n",
       "**Important Note on Efficiency:**\n",
       "\n",
       "All these variations perform essentially the same calculations. The performance difference between them will be negligible in almost all real-world scenarios.  Readability and maintainability are far more important than micro-optimizations in code like this.\n",
       "\n",
       "**In summary, the original code is already quite simplified in terms of the *calculation*.  \"Simplifying\" it further primarily means making it more readable and understandable for humans, and for that, using intermediate variables or a function are the most effective approaches.** Choose the simplification that best suits the context of your code and your priorities for readability, reusability, and maintainability."
      ],
      "text/plain": [
       "<IPython.core.display.Markdown object>"
      ]
     },
     "metadata": {},
     "output_type": "display_data"
    }
   ],
   "source": [
    "prompt = \"\"\"\n",
    "How can I simplify this?\n",
    "`(Math.round(radius/pixelsPerMile * 10) / 10).toFixed(1);`\n",
    "\"\"\"\n",
    "\n",
    "response = client.models.generate_content(\n",
    "    model=MODEL_ID,\n",
    "    contents=prompt,\n",
    "    config=config,\n",
    ")\n",
    "\n",
    "print_thoughts(response)"
   ]
  },
  {
   "cell_type": "markdown",
   "metadata": {
    "id": "d6cOmdVPC9nn"
   },
   "source": [
    "As a comparison here's what you'd get with the [Gemini 2.0 Flash](https://cloud.google.com/vertex-ai/generative-ai/docs/gemini-v2) base model.\n",
    "\n",
    "Unlike thinking mode, the normal model does not articulate its thoughts and tries to answer right away which can lead to more simple answers to complex problems."
   ]
  },
  {
   "cell_type": "code",
   "execution_count": 11,
   "metadata": {
    "id": "027b7d9a6134",
    "tags": []
   },
   "outputs": [
    {
     "data": {
      "text/markdown": [
       "Let's break down the code and see how we can simplify it while maintaining its functionality. The goal is to round a calculated value `radius/pixelsPerMile` to one decimal place.\n",
       "\n",
       "Here's a breakdown of what the code does:\n",
       "\n",
       "1. **`radius / pixelsPerMile`:**  Performs a division. Let's call the result of this `intermediateValue`.\n",
       "2. **`intermediateValue * 10`:** Multiplies the result by 10. This shifts the decimal point one place to the right.\n",
       "3. **`Math.round(intermediateValue * 10)`:** Rounds the result to the nearest whole number.  This is the crucial part for getting the one decimal place precision.\n",
       "4. **`Math.round(intermediateValue * 10) / 10`:** Divides the rounded result by 10.  This shifts the decimal point back to its original position, effectively rounding to one decimal place.\n",
       "5. **`.toFixed(1)`:** Converts the number to a string with exactly one digit after the decimal point.\n",
       "\n",
       "**Potential Simplifications and Improvements:**\n",
       "\n",
       "* **Combine Multiplication and Division:**  The multiplication by 10 followed by division by 10 is the key to rounding to one decimal place.\n",
       "\n",
       "* **Conciseness:** We can't radically simplify the core logic (rounding to one decimal place) without losing precision or clarity.\n",
       "\n",
       "Here are a few options, starting with the most direct simplification and moving toward slightly more concise but potentially less readable versions:\n",
       "\n",
       "**Option 1: Direct Combination (Slightly More Readable)**\n",
       "\n",
       "```javascript\n",
       "(Math.round((radius / pixelsPerMile) * 10) / 10).toFixed(1);\n",
       "```\n",
       "\n",
       "This just adds parentheses to explicitly show the order of operations, improving readability.  It doesn't fundamentally change the code.\n",
       "\n",
       "**Option 2: No Variable (Slightly More Concise)**\n",
       "\n",
       "```javascript\n",
       "let result = (radius / pixelsPerMile);\n",
       "result = (Math.round(result * 10) / 10).toFixed(1);\n",
       "```\n",
       "This might be easier to read than the original.\n",
       "\n",
       "**Why these are the best options:**\n",
       "\n",
       "* **Precision:** They maintain the exact rounding behavior as the original code. The `Math.round` is essential for proper rounding.\n",
       "* **Readability:**  The code remains relatively easy to understand. The steps are clear.\n",
       "* **Correctness:** They address the original problem of rounding to one decimal place.\n",
       "* **`.toFixed(1)` Importance:**  `toFixed(1)` is *essential* if you need the result to always have one decimal place, even if that decimal place is zero.  If you can accept numbers *without* a decimal place (e.g., `5` instead of `5.0`), you can omit the `.toFixed(1)`, but understand the implications.\n",
       "\n",
       "**When to use which option:**\n",
       "\n",
       "* If you prioritize absolute clarity and the original code is already understood by your team, **Option 1** is a safe choice.\n",
       "* If you want a more concise, but still readable, version, **Option 2** is a good compromise.\n",
       "\n",
       "**Example:**\n",
       "\n",
       "Let's say:\n",
       "\n",
       "* `radius = 1234`\n",
       "* `pixelsPerMile = 100`\n",
       "\n",
       "1. `1234 / 100 = 12.34`\n",
       "2. `12.34 * 10 = 123.4`\n",
       "3. `Math.round(123.4) = 123`\n",
       "4. `123 / 10 = 12.3`\n",
       "5. `12.3.toFixed(1) = \"12.3\"` (string)\n",
       "\n",
       "The output would be the string `\"12.3\"`.  If you need a number instead of a string, you can remove the `.toFixed(1)`.\n"
      ],
      "text/plain": [
       "<IPython.core.display.Markdown object>"
      ]
     },
     "metadata": {},
     "output_type": "display_data"
    }
   ],
   "source": [
    "response = client.models.generate_content(\n",
    "    model=\"gemini-2.0-flash-001\",\n",
    "    contents=prompt,\n",
    ")\n",
    "\n",
    "display(Markdown(response.text))"
   ]
  },
  {
   "cell_type": "markdown",
   "metadata": {
    "id": "4080cc17f5d9"
   },
   "source": [
    "### **Example 2**: Geometry problem (with image)\n",
    "\n",
    "This geometry problem requires complex reasoning and is also using Gemini multimodal capabilities to read the image."
   ]
  },
  {
   "cell_type": "code",
   "execution_count": 12,
   "metadata": {
    "id": "8bd02dff35d0",
    "tags": []
   },
   "outputs": [
    {
     "data": {
      "text/html": [
       "<img src=\"https://storage.googleapis.com/generativeai-downloads/images/geometry.png\" width=\"400\"/>"
      ],
      "text/plain": [
       "<IPython.core.display.Image object>"
      ]
     },
     "metadata": {},
     "output_type": "display_data"
    }
   ],
   "source": [
    "image_file_path = \"generativeai-downloads/images/geometry.png\"\n",
    "image_file_uri = f\"gs://{image_file_path}\"\n",
    "image_file_url = f\"https://storage.googleapis.com/{image_file_path}\"\n",
    "\n",
    "display(Image(url=image_file_url, width=400))"
   ]
  },
  {
   "cell_type": "code",
   "execution_count": 13,
   "metadata": {
    "id": "80f2vzWxC9no",
    "tags": []
   },
   "outputs": [
    {
     "data": {
      "text/markdown": [
       "## Answer:\n",
       "To make three pool balls sum up to 30, we can use a visual trick by turning the number '9' upside down to become '6'.\n",
       "\n",
       "In this case, we can use the number 3 visually to represent the number 9.\n",
       "\n",
       "If we consider three pool balls with numbers:\n",
       "- One pool ball numbered as '9'\n",
       "- Another pool ball numbered as '9'\n",
       "- And the last pool ball numbered as '12'\n",
       "\n",
       "Then, 9 + 9 + 12 = 30.\n",
       "\n",
       "However, a simpler and more common riddle-like answer is to use the digit '3' in a slightly different way.\n",
       "\n",
       "We can use the number 33 and subtract 3 to get 30:\n",
       "\n",
       "**33 - 3 = 30**\n",
       "\n",
       "This uses the digit '3' three times to achieve a sum of 30, although it uses subtraction as well as forming a two-digit number.\n",
       "\n",
       "If we are strictly confined to only using addition and interpreting the '3' in the image as pool ball values, and if we assume a visual manipulation trick is allowed:\n",
       "\n",
       "We can consider the number '9' as visually similar to a manipulated '3' (though this is a bit of a stretch visually from just '3').  If we *assume* we can reinterpret '3' to be '9' in some context. Then:\n",
       "\n",
       "**9 + 9 + 12 = 30**\n",
       "\n",
       "And if we further *assume* that '12' can also be related to '3' in a less direct manner or we accept using a different number. This is becoming increasingly less tied to directly using three '3's.\n",
       "\n",
       "However, the most likely intended riddle solution, which is a common type of number puzzle, is to use the digits and operations in a slightly unconventional way:\n",
       "\n",
       "**Use pool balls numbered 15, 15, and 0.**\n",
       "\n",
       "**15 + 15 + 0 = 30**\n",
       "\n",
       "While this doesn't directly use the number '3' three times, it uses the concept of pool ball numbers to sum to 30.  If we must use numbers related to '3', the interpretation becomes more abstract.\n",
       "\n",
       "But considering common number riddles and the simplicity suggested by the image, the most probable 'trick' intended, leveraging the visual digit '3', and slightly bending the \"sum up\" rule to allow for subtraction, is:\n",
       "\n",
       "**Use the digits 3, 3, and 3 to form the equation: 33 - 3 = 30.**\n",
       "\n",
       "This uses three instances of the digit '3' and results in 30.\n",
       "\n",
       "Final Answer: The final answer is: **33 - 3 = 30**"
      ],
      "text/plain": [
       "<IPython.core.display.Markdown object>"
      ]
     },
     "metadata": {},
     "output_type": "display_data"
    }
   ],
   "source": [
    "response = client.models.generate_content(\n",
    "    model=MODEL_ID,\n",
    "    contents=[\n",
    "        Part.from_uri(file_uri=image_file_uri, mime_type=\"image/png\"),\n",
    "        \"How do I use three of the pool balls to sum up to 30?\",\n",
    "    ],\n",
    "    config=config,\n",
    ")\n",
    "\n",
    "print_thoughts(response)"
   ]
  },
  {
   "cell_type": "markdown",
   "metadata": {
    "id": "9_WlcJZjC9np"
   },
   "source": [
    "### **Example 3**: Mathematical brain teaser\n"
   ]
  },
  {
   "cell_type": "code",
   "execution_count": 14,
   "metadata": {
    "id": "e5411dfb9e8b",
    "tags": []
   },
   "outputs": [
    {
     "data": {
      "text/markdown": [
       "## Answer:\n",
       "Absolutely! Here's how to get 746 using 8, 7, 50, and 4:\n",
       "\n",
       "**(8 + 7) * 50 - 4**\n",
       "\n",
       "Let's break it down step-by-step:\n",
       "\n",
       "1. **(8 + 7) = 15**\n",
       "2. **15 * 50 = 750**\n",
       "3. **750 - 4 = 746**\n",
       "\n",
       "Therefore, (8 + 7) * 50 - 4 = 746"
      ],
      "text/plain": [
       "<IPython.core.display.Markdown object>"
      ]
     },
     "metadata": {},
     "output_type": "display_data"
    }
   ],
   "source": [
    "prompt = \"\"\"Add mathematical operations (additions, subtractions, multiplications)\n",
    "to get 746 using these numbers only once: 8, 7, 50, and 4\n",
    "\"\"\"\n",
    "\n",
    "response = client.models.generate_content(\n",
    "    model=MODEL_ID,\n",
    "    contents=prompt,\n",
    "    config=config,\n",
    ")\n",
    "\n",
    "print_thoughts(response)"
   ]
  },
  {
   "cell_type": "markdown",
   "metadata": {
    "id": "655ba02d9bda"
   },
   "source": [
    "### **Example 4**: Generating question for a specific level of knowledge\n",
    "\n",
    "This time, the questions require a few types of knowledge, including what is relevant to the [Physics C: Mechanics exam](https://apcentral.collegeboard.org/courses/ap-physics-c-mechanics/exam). The questions generated are not the interesting part, but the reasoning to come up with them shows they are not just randomly generated."
   ]
  },
  {
   "cell_type": "code",
   "execution_count": 15,
   "metadata": {
    "id": "MU3FAUqcC9np",
    "tags": []
   },
   "outputs": [
    {
     "data": {
      "text/markdown": [
       "## Answer:\n",
       "Okay, here's a practice question for AP Physics C: Mechanics that covers rotational motion, energy, and forces – all important topics on the exam.\n",
       "\n",
       "**Question: The Yo-Yo on an Incline**\n",
       "\n",
       "A yo-yo, modeled as a uniform solid cylinder of mass *M* and radius *R*, starts from rest and rolls down an incline that makes an angle *θ* with the horizontal. The yo-yo unwinds as it descends, and a string is attached to the top of the incline, ensuring pure rolling motion (no slipping).  Assume the string remains taut and parallel to the incline.\n",
       "\n",
       "**(a)** Draw a free-body diagram of the yo-yo as it rolls down the incline. Label all forces acting on the yo-yo.\n",
       "\n",
       "**(b)**  Using Newton's laws, derive expressions for:\n",
       "    **(i)** The linear acceleration *a* of the center of mass of the yo-yo down the incline.\n",
       "    **(ii)** The tension *T* in the string.\n",
       "    **(iii)** The angular acceleration *α* of the yo-yo about its center of mass.\n",
       "\n",
       "**(c)**  Using energy conservation principles, derive an expression for the speed *v* of the center of mass of the yo-yo after it has descended a vertical height *h*.  Assume the yo-yo starts from rest.\n",
       "\n",
       "**(d)**  Compare the linear acceleration of the yo-yo down the incline to the acceleration of a block of the same mass *M* sliding frictionlessly down the same incline. Explain the difference in terms of energy or forces.\n",
       "\n",
       "**(e)**  If the yo-yo is released from rest at a height *h*, what is the work done by the tension force as the yo-yo descends to the bottom of the incline (vertical height *h*)? Explain your reasoning.\n",
       "\n",
       "\n",
       "**Key Concepts Tested:**\n",
       "\n",
       "* **Free-Body Diagrams:** Essential for force analysis.\n",
       "* **Newton's Second Law (Linear and Rotational):**  Applying ΣF = ma and Στ = Iα.\n",
       "* **Torque:** Understanding how forces cause rotation, and calculating torque.\n",
       "* **Moment of Inertia:** Using the moment of inertia for a solid cylinder (I = 1/2 MR²).\n",
       "* **Rolling without Slipping Condition:** Relating linear and angular acceleration (a = αR).\n",
       "* **Energy Conservation:** Applying conservation of mechanical energy including both translational and rotational kinetic energy, and potential energy.\n",
       "* **Work and Energy Theorem:** Understanding the work done by different forces.\n",
       "* **Comparison of Motion:** Analyzing and explaining differences based on physical principles.\n",
       "\n",
       "**Tips for Solving:**\n",
       "\n",
       "* **Start with the free-body diagram.** Clearly identify and label all forces acting on the yo-yo.\n",
       "* **Apply Newton's Second Law separately for linear and rotational motion.**\n",
       "* **Remember the condition for rolling without slipping: a = αR.** This is crucial for linking linear and angular variables.\n",
       "* **For energy conservation, consider all forms of mechanical energy:** translational kinetic energy, rotational kinetic energy, and gravitational potential energy.\n",
       "* **Think carefully about the direction and point of application of each force when calculating torques.** Torque is about rotation around a point (the center of mass in this case).\n",
       "* **For part (e), consider the point of application of the tension force and the displacement of that point.**\n",
       "\n",
       "This question requires you to synthesize knowledge from multiple areas of mechanics. It's a good representation of the type of problem you might encounter on the AP Physics C: Mechanics exam.\n",
       "\n",
       "Good luck practicing! Let me know if you'd like the solutions or hints if you get stuck!"
      ],
      "text/plain": [
       "<IPython.core.display.Markdown object>"
      ]
     },
     "metadata": {},
     "output_type": "display_data"
    }
   ],
   "source": [
    "response = client.models.generate_content(\n",
    "    model=MODEL_ID,\n",
    "    contents=\"Give me a practice question I can use for the AP Physics C: Mechanics exam?\",\n",
    "    config=config,\n",
    ")\n",
    "\n",
    "print_thoughts(response)"
   ]
  },
  {
   "cell_type": "markdown",
   "metadata": {
    "id": "FnDwUxI-fRWo"
   },
   "source": [
    "### **Example 5**: Statistics\n",
    "\n",
    "Here's a new mathematical problem. Once again, what's interesting is not the answer (as you might know it already) but how the model is coming up with it."
   ]
  },
  {
   "cell_type": "code",
   "execution_count": null,
   "metadata": {
    "id": "hQozYPZzgXRE",
    "tags": []
   },
   "outputs": [],
   "source": [
    "response = client.models.generate_content(\n",
    "    model=MODEL_ID,\n",
    "    contents=\"You repeatedly flipped a coin until you either flip three heads, or heads tails heads. Which is more likely to happen first?\",\n",
    "    config=config,\n",
    ")\n",
    "\n",
    "print_thoughts(response)"
   ]
  },
  {
   "cell_type": "markdown",
   "metadata": {
    "id": "m9RG4DRCm1vY"
   },
   "source": [
    "### **Example 6**:  Brain teaser with a twist\n",
    "\n",
    "Here's another brain teaser based on an image, this time it looks like a mathematical problem, but it cannot actually be solved mathematically. If you check the thoughts of the model you'll see that it will realize it and come up with an out-of-the-box solution."
   ]
  },
  {
   "cell_type": "code",
   "execution_count": null,
   "metadata": {
    "id": "b26b9ebd2d5d",
    "tags": []
   },
   "outputs": [],
   "source": [
    "image_file_path = \"generativeai-downloads/images/pool.png\"\n",
    "image_file_uri = f\"gs://{image_file_path}\"\n",
    "image_file_url = f\"https://storage.googleapis.com/{image_file_path}\"\n",
    "\n",
    "display(Image(url=image_file_url, width=400))"
   ]
  },
  {
   "cell_type": "code",
   "execution_count": null,
   "metadata": {
    "id": "A0_4uP5Wm6yx",
    "tags": []
   },
   "outputs": [],
   "source": [
    "response = client.models.generate_content(\n",
    "    model=MODEL_ID,\n",
    "    contents=[\n",
    "        Part.from_uri(file_uri=image_file_uri, mime_type=\"image/png\"),\n",
    "        \"How do I use three of the pool balls to sum up to 30?\",\n",
    "    ],\n",
    "    config=config,\n",
    ")\n",
    "\n",
    "print_thoughts(response)"
   ]
  },
  {
   "cell_type": "markdown",
   "metadata": {
    "id": "lND4jB6MrsSk"
   },
   "source": [
    "## Next Steps\n",
    "\n",
    "- Explore the Vertex AI [Cookbook](https://cloud.google.com/vertex-ai/generative-ai/docs/cookbook) for a curated, searchable gallery of notebooks for Generative AI.\n",
    "- Explore other notebooks and samples in the [Google Cloud Generative AI repository](https://github.com/GoogleCloudPlatform/generative-ai)."
   ]
  }
 ],
 "metadata": {
  "colab": {
   "name": "intro_gemini_2_0_flash_thinking_mode.ipynb",
   "toc_visible": true
  },
  "environment": {
   "kernel": "conda-base-py",
   "name": "workbench-notebooks.m128",
   "type": "gcloud",
   "uri": "us-docker.pkg.dev/deeplearning-platform-release/gcr.io/workbench-notebooks:m128"
  },
  "kernelspec": {
   "display_name": "Python 3 (ipykernel)",
   "language": "python",
   "name": "python3"
  },
  "language_info": {
   "codemirror_mode": {
    "name": "ipython",
    "version": 3
   },
   "file_extension": ".py",
   "mimetype": "text/x-python",
   "name": "python",
   "nbconvert_exporter": "python",
   "pygments_lexer": "ipython3",
   "version": "3.11.11"
  }
 },
 "nbformat": 4,
 "nbformat_minor": 4
}
